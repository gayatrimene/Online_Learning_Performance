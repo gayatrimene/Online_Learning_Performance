{
  "nbformat": 4,
  "nbformat_minor": 0,
  "metadata": {
    "colab": {
      "provenance": []
    },
    "kernelspec": {
      "name": "python3",
      "display_name": "Python 3"
    },
    "language_info": {
      "name": "python"
    }
  },
  "cells": [
    {
      "cell_type": "markdown",
      "source": [
        "# **Student Academic Performance**"
      ],
      "metadata": {
        "id": "Wi_RdvNbRb8J"
      }
    },
    {
      "cell_type": "markdown",
      "source": [
        "## Exploratory Data Analysis (EDA)"
      ],
      "metadata": {
        "id": "VSCL_gA3Rxl5"
      }
    },
    {
      "cell_type": "code",
      "execution_count": null,
      "metadata": {
        "id": "cofo0kT0OkgV"
      },
      "outputs": [],
      "source": [
        "import pandas as pd\n",
        "import matplotlib.pyplot as plt\n",
        "import seaborn as sns"
      ]
    },
    {
      "cell_type": "code",
      "source": [
        "data = pd.read_csv('xAPI-Edu-Data.csv')\n",
        "\n",
        "data.head(10)"
      ],
      "metadata": {
        "colab": {
          "base_uri": "https://localhost:8080/",
          "height": 383
        },
        "id": "KeYMlDaTS_IS",
        "outputId": "d6d30dc3-f6aa-4d2d-fb49-e6bfbce60127"
      },
      "execution_count": null,
      "outputs": [
        {
          "output_type": "execute_result",
          "data": {
            "text/plain": [
              "  gender NationalITy PlaceofBirth       StageID GradeID SectionID Topic  \\\n",
              "0      M          KW       KuwaIT    lowerlevel    G-04         A    IT   \n",
              "1      M          KW       KuwaIT    lowerlevel    G-04         A    IT   \n",
              "2      M          KW       KuwaIT    lowerlevel    G-04         A    IT   \n",
              "3      M          KW       KuwaIT    lowerlevel    G-04         A    IT   \n",
              "4      M          KW       KuwaIT    lowerlevel    G-04         A    IT   \n",
              "5      F          KW       KuwaIT    lowerlevel    G-04         A    IT   \n",
              "6      M          KW       KuwaIT  MiddleSchool    G-07         A  Math   \n",
              "7      M          KW       KuwaIT  MiddleSchool    G-07         A  Math   \n",
              "8      F          KW       KuwaIT  MiddleSchool    G-07         A  Math   \n",
              "9      F          KW       KuwaIT  MiddleSchool    G-07         B    IT   \n",
              "\n",
              "  Semester Relation  raisedhands  VisITedResources  AnnouncementsView  \\\n",
              "0        F   Father           15                16                  2   \n",
              "1        F   Father           20                20                  3   \n",
              "2        F   Father           10                 7                  0   \n",
              "3        F   Father           30                25                  5   \n",
              "4        F   Father           40                50                 12   \n",
              "5        F   Father           42                30                 13   \n",
              "6        F   Father           35                12                  0   \n",
              "7        F   Father           50                10                 15   \n",
              "8        F   Father           12                21                 16   \n",
              "9        F   Father           70                80                 25   \n",
              "\n",
              "   Discussion ParentAnsweringSurvey ParentschoolSatisfaction  \\\n",
              "0          20                   Yes                     Good   \n",
              "1          25                   Yes                     Good   \n",
              "2          30                    No                      Bad   \n",
              "3          35                    No                      Bad   \n",
              "4          50                    No                      Bad   \n",
              "5          70                   Yes                      Bad   \n",
              "6          17                    No                      Bad   \n",
              "7          22                   Yes                     Good   \n",
              "8          50                   Yes                     Good   \n",
              "9          70                   Yes                     Good   \n",
              "\n",
              "  StudentAbsenceDays Class  \n",
              "0            Under-7     M  \n",
              "1            Under-7     M  \n",
              "2            Above-7     L  \n",
              "3            Above-7     L  \n",
              "4            Above-7     M  \n",
              "5            Above-7     M  \n",
              "6            Above-7     L  \n",
              "7            Under-7     M  \n",
              "8            Under-7     M  \n",
              "9            Under-7     M  "
            ],
            "text/html": [
              "\n",
              "  <div id=\"df-52f77a8b-f792-4786-b30d-84f866eebafc\" class=\"colab-df-container\">\n",
              "    <div>\n",
              "<style scoped>\n",
              "    .dataframe tbody tr th:only-of-type {\n",
              "        vertical-align: middle;\n",
              "    }\n",
              "\n",
              "    .dataframe tbody tr th {\n",
              "        vertical-align: top;\n",
              "    }\n",
              "\n",
              "    .dataframe thead th {\n",
              "        text-align: right;\n",
              "    }\n",
              "</style>\n",
              "<table border=\"1\" class=\"dataframe\">\n",
              "  <thead>\n",
              "    <tr style=\"text-align: right;\">\n",
              "      <th></th>\n",
              "      <th>gender</th>\n",
              "      <th>NationalITy</th>\n",
              "      <th>PlaceofBirth</th>\n",
              "      <th>StageID</th>\n",
              "      <th>GradeID</th>\n",
              "      <th>SectionID</th>\n",
              "      <th>Topic</th>\n",
              "      <th>Semester</th>\n",
              "      <th>Relation</th>\n",
              "      <th>raisedhands</th>\n",
              "      <th>VisITedResources</th>\n",
              "      <th>AnnouncementsView</th>\n",
              "      <th>Discussion</th>\n",
              "      <th>ParentAnsweringSurvey</th>\n",
              "      <th>ParentschoolSatisfaction</th>\n",
              "      <th>StudentAbsenceDays</th>\n",
              "      <th>Class</th>\n",
              "    </tr>\n",
              "  </thead>\n",
              "  <tbody>\n",
              "    <tr>\n",
              "      <th>0</th>\n",
              "      <td>M</td>\n",
              "      <td>KW</td>\n",
              "      <td>KuwaIT</td>\n",
              "      <td>lowerlevel</td>\n",
              "      <td>G-04</td>\n",
              "      <td>A</td>\n",
              "      <td>IT</td>\n",
              "      <td>F</td>\n",
              "      <td>Father</td>\n",
              "      <td>15</td>\n",
              "      <td>16</td>\n",
              "      <td>2</td>\n",
              "      <td>20</td>\n",
              "      <td>Yes</td>\n",
              "      <td>Good</td>\n",
              "      <td>Under-7</td>\n",
              "      <td>M</td>\n",
              "    </tr>\n",
              "    <tr>\n",
              "      <th>1</th>\n",
              "      <td>M</td>\n",
              "      <td>KW</td>\n",
              "      <td>KuwaIT</td>\n",
              "      <td>lowerlevel</td>\n",
              "      <td>G-04</td>\n",
              "      <td>A</td>\n",
              "      <td>IT</td>\n",
              "      <td>F</td>\n",
              "      <td>Father</td>\n",
              "      <td>20</td>\n",
              "      <td>20</td>\n",
              "      <td>3</td>\n",
              "      <td>25</td>\n",
              "      <td>Yes</td>\n",
              "      <td>Good</td>\n",
              "      <td>Under-7</td>\n",
              "      <td>M</td>\n",
              "    </tr>\n",
              "    <tr>\n",
              "      <th>2</th>\n",
              "      <td>M</td>\n",
              "      <td>KW</td>\n",
              "      <td>KuwaIT</td>\n",
              "      <td>lowerlevel</td>\n",
              "      <td>G-04</td>\n",
              "      <td>A</td>\n",
              "      <td>IT</td>\n",
              "      <td>F</td>\n",
              "      <td>Father</td>\n",
              "      <td>10</td>\n",
              "      <td>7</td>\n",
              "      <td>0</td>\n",
              "      <td>30</td>\n",
              "      <td>No</td>\n",
              "      <td>Bad</td>\n",
              "      <td>Above-7</td>\n",
              "      <td>L</td>\n",
              "    </tr>\n",
              "    <tr>\n",
              "      <th>3</th>\n",
              "      <td>M</td>\n",
              "      <td>KW</td>\n",
              "      <td>KuwaIT</td>\n",
              "      <td>lowerlevel</td>\n",
              "      <td>G-04</td>\n",
              "      <td>A</td>\n",
              "      <td>IT</td>\n",
              "      <td>F</td>\n",
              "      <td>Father</td>\n",
              "      <td>30</td>\n",
              "      <td>25</td>\n",
              "      <td>5</td>\n",
              "      <td>35</td>\n",
              "      <td>No</td>\n",
              "      <td>Bad</td>\n",
              "      <td>Above-7</td>\n",
              "      <td>L</td>\n",
              "    </tr>\n",
              "    <tr>\n",
              "      <th>4</th>\n",
              "      <td>M</td>\n",
              "      <td>KW</td>\n",
              "      <td>KuwaIT</td>\n",
              "      <td>lowerlevel</td>\n",
              "      <td>G-04</td>\n",
              "      <td>A</td>\n",
              "      <td>IT</td>\n",
              "      <td>F</td>\n",
              "      <td>Father</td>\n",
              "      <td>40</td>\n",
              "      <td>50</td>\n",
              "      <td>12</td>\n",
              "      <td>50</td>\n",
              "      <td>No</td>\n",
              "      <td>Bad</td>\n",
              "      <td>Above-7</td>\n",
              "      <td>M</td>\n",
              "    </tr>\n",
              "    <tr>\n",
              "      <th>5</th>\n",
              "      <td>F</td>\n",
              "      <td>KW</td>\n",
              "      <td>KuwaIT</td>\n",
              "      <td>lowerlevel</td>\n",
              "      <td>G-04</td>\n",
              "      <td>A</td>\n",
              "      <td>IT</td>\n",
              "      <td>F</td>\n",
              "      <td>Father</td>\n",
              "      <td>42</td>\n",
              "      <td>30</td>\n",
              "      <td>13</td>\n",
              "      <td>70</td>\n",
              "      <td>Yes</td>\n",
              "      <td>Bad</td>\n",
              "      <td>Above-7</td>\n",
              "      <td>M</td>\n",
              "    </tr>\n",
              "    <tr>\n",
              "      <th>6</th>\n",
              "      <td>M</td>\n",
              "      <td>KW</td>\n",
              "      <td>KuwaIT</td>\n",
              "      <td>MiddleSchool</td>\n",
              "      <td>G-07</td>\n",
              "      <td>A</td>\n",
              "      <td>Math</td>\n",
              "      <td>F</td>\n",
              "      <td>Father</td>\n",
              "      <td>35</td>\n",
              "      <td>12</td>\n",
              "      <td>0</td>\n",
              "      <td>17</td>\n",
              "      <td>No</td>\n",
              "      <td>Bad</td>\n",
              "      <td>Above-7</td>\n",
              "      <td>L</td>\n",
              "    </tr>\n",
              "    <tr>\n",
              "      <th>7</th>\n",
              "      <td>M</td>\n",
              "      <td>KW</td>\n",
              "      <td>KuwaIT</td>\n",
              "      <td>MiddleSchool</td>\n",
              "      <td>G-07</td>\n",
              "      <td>A</td>\n",
              "      <td>Math</td>\n",
              "      <td>F</td>\n",
              "      <td>Father</td>\n",
              "      <td>50</td>\n",
              "      <td>10</td>\n",
              "      <td>15</td>\n",
              "      <td>22</td>\n",
              "      <td>Yes</td>\n",
              "      <td>Good</td>\n",
              "      <td>Under-7</td>\n",
              "      <td>M</td>\n",
              "    </tr>\n",
              "    <tr>\n",
              "      <th>8</th>\n",
              "      <td>F</td>\n",
              "      <td>KW</td>\n",
              "      <td>KuwaIT</td>\n",
              "      <td>MiddleSchool</td>\n",
              "      <td>G-07</td>\n",
              "      <td>A</td>\n",
              "      <td>Math</td>\n",
              "      <td>F</td>\n",
              "      <td>Father</td>\n",
              "      <td>12</td>\n",
              "      <td>21</td>\n",
              "      <td>16</td>\n",
              "      <td>50</td>\n",
              "      <td>Yes</td>\n",
              "      <td>Good</td>\n",
              "      <td>Under-7</td>\n",
              "      <td>M</td>\n",
              "    </tr>\n",
              "    <tr>\n",
              "      <th>9</th>\n",
              "      <td>F</td>\n",
              "      <td>KW</td>\n",
              "      <td>KuwaIT</td>\n",
              "      <td>MiddleSchool</td>\n",
              "      <td>G-07</td>\n",
              "      <td>B</td>\n",
              "      <td>IT</td>\n",
              "      <td>F</td>\n",
              "      <td>Father</td>\n",
              "      <td>70</td>\n",
              "      <td>80</td>\n",
              "      <td>25</td>\n",
              "      <td>70</td>\n",
              "      <td>Yes</td>\n",
              "      <td>Good</td>\n",
              "      <td>Under-7</td>\n",
              "      <td>M</td>\n",
              "    </tr>\n",
              "  </tbody>\n",
              "</table>\n",
              "</div>\n",
              "    <div class=\"colab-df-buttons\">\n",
              "\n",
              "  <div class=\"colab-df-container\">\n",
              "    <button class=\"colab-df-convert\" onclick=\"convertToInteractive('df-52f77a8b-f792-4786-b30d-84f866eebafc')\"\n",
              "            title=\"Convert this dataframe to an interactive table.\"\n",
              "            style=\"display:none;\">\n",
              "\n",
              "  <svg xmlns=\"http://www.w3.org/2000/svg\" height=\"24px\" viewBox=\"0 -960 960 960\">\n",
              "    <path d=\"M120-120v-720h720v720H120Zm60-500h600v-160H180v160Zm220 220h160v-160H400v160Zm0 220h160v-160H400v160ZM180-400h160v-160H180v160Zm440 0h160v-160H620v160ZM180-180h160v-160H180v160Zm440 0h160v-160H620v160Z\"/>\n",
              "  </svg>\n",
              "    </button>\n",
              "\n",
              "  <style>\n",
              "    .colab-df-container {\n",
              "      display:flex;\n",
              "      gap: 12px;\n",
              "    }\n",
              "\n",
              "    .colab-df-convert {\n",
              "      background-color: #E8F0FE;\n",
              "      border: none;\n",
              "      border-radius: 50%;\n",
              "      cursor: pointer;\n",
              "      display: none;\n",
              "      fill: #1967D2;\n",
              "      height: 32px;\n",
              "      padding: 0 0 0 0;\n",
              "      width: 32px;\n",
              "    }\n",
              "\n",
              "    .colab-df-convert:hover {\n",
              "      background-color: #E2EBFA;\n",
              "      box-shadow: 0px 1px 2px rgba(60, 64, 67, 0.3), 0px 1px 3px 1px rgba(60, 64, 67, 0.15);\n",
              "      fill: #174EA6;\n",
              "    }\n",
              "\n",
              "    .colab-df-buttons div {\n",
              "      margin-bottom: 4px;\n",
              "    }\n",
              "\n",
              "    [theme=dark] .colab-df-convert {\n",
              "      background-color: #3B4455;\n",
              "      fill: #D2E3FC;\n",
              "    }\n",
              "\n",
              "    [theme=dark] .colab-df-convert:hover {\n",
              "      background-color: #434B5C;\n",
              "      box-shadow: 0px 1px 3px 1px rgba(0, 0, 0, 0.15);\n",
              "      filter: drop-shadow(0px 1px 2px rgba(0, 0, 0, 0.3));\n",
              "      fill: #FFFFFF;\n",
              "    }\n",
              "  </style>\n",
              "\n",
              "    <script>\n",
              "      const buttonEl =\n",
              "        document.querySelector('#df-52f77a8b-f792-4786-b30d-84f866eebafc button.colab-df-convert');\n",
              "      buttonEl.style.display =\n",
              "        google.colab.kernel.accessAllowed ? 'block' : 'none';\n",
              "\n",
              "      async function convertToInteractive(key) {\n",
              "        const element = document.querySelector('#df-52f77a8b-f792-4786-b30d-84f866eebafc');\n",
              "        const dataTable =\n",
              "          await google.colab.kernel.invokeFunction('convertToInteractive',\n",
              "                                                    [key], {});\n",
              "        if (!dataTable) return;\n",
              "\n",
              "        const docLinkHtml = 'Like what you see? Visit the ' +\n",
              "          '<a target=\"_blank\" href=https://colab.research.google.com/notebooks/data_table.ipynb>data table notebook</a>'\n",
              "          + ' to learn more about interactive tables.';\n",
              "        element.innerHTML = '';\n",
              "        dataTable['output_type'] = 'display_data';\n",
              "        await google.colab.output.renderOutput(dataTable, element);\n",
              "        const docLink = document.createElement('div');\n",
              "        docLink.innerHTML = docLinkHtml;\n",
              "        element.appendChild(docLink);\n",
              "      }\n",
              "    </script>\n",
              "  </div>\n",
              "\n",
              "\n",
              "<div id=\"df-61e5c0e4-4149-4381-83a5-18fbbe5d0a53\">\n",
              "  <button class=\"colab-df-quickchart\" onclick=\"quickchart('df-61e5c0e4-4149-4381-83a5-18fbbe5d0a53')\"\n",
              "            title=\"Suggest charts\"\n",
              "            style=\"display:none;\">\n",
              "\n",
              "<svg xmlns=\"http://www.w3.org/2000/svg\" height=\"24px\"viewBox=\"0 0 24 24\"\n",
              "     width=\"24px\">\n",
              "    <g>\n",
              "        <path d=\"M19 3H5c-1.1 0-2 .9-2 2v14c0 1.1.9 2 2 2h14c1.1 0 2-.9 2-2V5c0-1.1-.9-2-2-2zM9 17H7v-7h2v7zm4 0h-2V7h2v10zm4 0h-2v-4h2v4z\"/>\n",
              "    </g>\n",
              "</svg>\n",
              "  </button>\n",
              "\n",
              "<style>\n",
              "  .colab-df-quickchart {\n",
              "      --bg-color: #E8F0FE;\n",
              "      --fill-color: #1967D2;\n",
              "      --hover-bg-color: #E2EBFA;\n",
              "      --hover-fill-color: #174EA6;\n",
              "      --disabled-fill-color: #AAA;\n",
              "      --disabled-bg-color: #DDD;\n",
              "  }\n",
              "\n",
              "  [theme=dark] .colab-df-quickchart {\n",
              "      --bg-color: #3B4455;\n",
              "      --fill-color: #D2E3FC;\n",
              "      --hover-bg-color: #434B5C;\n",
              "      --hover-fill-color: #FFFFFF;\n",
              "      --disabled-bg-color: #3B4455;\n",
              "      --disabled-fill-color: #666;\n",
              "  }\n",
              "\n",
              "  .colab-df-quickchart {\n",
              "    background-color: var(--bg-color);\n",
              "    border: none;\n",
              "    border-radius: 50%;\n",
              "    cursor: pointer;\n",
              "    display: none;\n",
              "    fill: var(--fill-color);\n",
              "    height: 32px;\n",
              "    padding: 0;\n",
              "    width: 32px;\n",
              "  }\n",
              "\n",
              "  .colab-df-quickchart:hover {\n",
              "    background-color: var(--hover-bg-color);\n",
              "    box-shadow: 0 1px 2px rgba(60, 64, 67, 0.3), 0 1px 3px 1px rgba(60, 64, 67, 0.15);\n",
              "    fill: var(--button-hover-fill-color);\n",
              "  }\n",
              "\n",
              "  .colab-df-quickchart-complete:disabled,\n",
              "  .colab-df-quickchart-complete:disabled:hover {\n",
              "    background-color: var(--disabled-bg-color);\n",
              "    fill: var(--disabled-fill-color);\n",
              "    box-shadow: none;\n",
              "  }\n",
              "\n",
              "  .colab-df-spinner {\n",
              "    border: 2px solid var(--fill-color);\n",
              "    border-color: transparent;\n",
              "    border-bottom-color: var(--fill-color);\n",
              "    animation:\n",
              "      spin 1s steps(1) infinite;\n",
              "  }\n",
              "\n",
              "  @keyframes spin {\n",
              "    0% {\n",
              "      border-color: transparent;\n",
              "      border-bottom-color: var(--fill-color);\n",
              "      border-left-color: var(--fill-color);\n",
              "    }\n",
              "    20% {\n",
              "      border-color: transparent;\n",
              "      border-left-color: var(--fill-color);\n",
              "      border-top-color: var(--fill-color);\n",
              "    }\n",
              "    30% {\n",
              "      border-color: transparent;\n",
              "      border-left-color: var(--fill-color);\n",
              "      border-top-color: var(--fill-color);\n",
              "      border-right-color: var(--fill-color);\n",
              "    }\n",
              "    40% {\n",
              "      border-color: transparent;\n",
              "      border-right-color: var(--fill-color);\n",
              "      border-top-color: var(--fill-color);\n",
              "    }\n",
              "    60% {\n",
              "      border-color: transparent;\n",
              "      border-right-color: var(--fill-color);\n",
              "    }\n",
              "    80% {\n",
              "      border-color: transparent;\n",
              "      border-right-color: var(--fill-color);\n",
              "      border-bottom-color: var(--fill-color);\n",
              "    }\n",
              "    90% {\n",
              "      border-color: transparent;\n",
              "      border-bottom-color: var(--fill-color);\n",
              "    }\n",
              "  }\n",
              "</style>\n",
              "\n",
              "  <script>\n",
              "    async function quickchart(key) {\n",
              "      const quickchartButtonEl =\n",
              "        document.querySelector('#' + key + ' button');\n",
              "      quickchartButtonEl.disabled = true;  // To prevent multiple clicks.\n",
              "      quickchartButtonEl.classList.add('colab-df-spinner');\n",
              "      try {\n",
              "        const charts = await google.colab.kernel.invokeFunction(\n",
              "            'suggestCharts', [key], {});\n",
              "      } catch (error) {\n",
              "        console.error('Error during call to suggestCharts:', error);\n",
              "      }\n",
              "      quickchartButtonEl.classList.remove('colab-df-spinner');\n",
              "      quickchartButtonEl.classList.add('colab-df-quickchart-complete');\n",
              "    }\n",
              "    (() => {\n",
              "      let quickchartButtonEl =\n",
              "        document.querySelector('#df-61e5c0e4-4149-4381-83a5-18fbbe5d0a53 button');\n",
              "      quickchartButtonEl.style.display =\n",
              "        google.colab.kernel.accessAllowed ? 'block' : 'none';\n",
              "    })();\n",
              "  </script>\n",
              "</div>\n",
              "\n",
              "    </div>\n",
              "  </div>\n"
            ],
            "application/vnd.google.colaboratory.intrinsic+json": {
              "type": "dataframe",
              "variable_name": "data",
              "summary": "{\n  \"name\": \"data\",\n  \"rows\": 480,\n  \"fields\": [\n    {\n      \"column\": \"gender\",\n      \"properties\": {\n        \"dtype\": \"category\",\n        \"num_unique_values\": 2,\n        \"samples\": [\n          \"F\",\n          \"M\"\n        ],\n        \"semantic_type\": \"\",\n        \"description\": \"\"\n      }\n    },\n    {\n      \"column\": \"NationalITy\",\n      \"properties\": {\n        \"dtype\": \"category\",\n        \"num_unique_values\": 14,\n        \"samples\": [\n          \"Morocco\",\n          \"Palestine\"\n        ],\n        \"semantic_type\": \"\",\n        \"description\": \"\"\n      }\n    },\n    {\n      \"column\": \"PlaceofBirth\",\n      \"properties\": {\n        \"dtype\": \"category\",\n        \"num_unique_values\": 14,\n        \"samples\": [\n          \"Morocco\",\n          \"Iraq\"\n        ],\n        \"semantic_type\": \"\",\n        \"description\": \"\"\n      }\n    },\n    {\n      \"column\": \"StageID\",\n      \"properties\": {\n        \"dtype\": \"category\",\n        \"num_unique_values\": 3,\n        \"samples\": [\n          \"lowerlevel\",\n          \"MiddleSchool\"\n        ],\n        \"semantic_type\": \"\",\n        \"description\": \"\"\n      }\n    },\n    {\n      \"column\": \"GradeID\",\n      \"properties\": {\n        \"dtype\": \"category\",\n        \"num_unique_values\": 10,\n        \"samples\": [\n          \"G-10\",\n          \"G-07\"\n        ],\n        \"semantic_type\": \"\",\n        \"description\": \"\"\n      }\n    },\n    {\n      \"column\": \"SectionID\",\n      \"properties\": {\n        \"dtype\": \"category\",\n        \"num_unique_values\": 3,\n        \"samples\": [\n          \"A\",\n          \"B\"\n        ],\n        \"semantic_type\": \"\",\n        \"description\": \"\"\n      }\n    },\n    {\n      \"column\": \"Topic\",\n      \"properties\": {\n        \"dtype\": \"category\",\n        \"num_unique_values\": 12,\n        \"samples\": [\n          \"Chemistry\",\n          \"Biology\"\n        ],\n        \"semantic_type\": \"\",\n        \"description\": \"\"\n      }\n    },\n    {\n      \"column\": \"Semester\",\n      \"properties\": {\n        \"dtype\": \"category\",\n        \"num_unique_values\": 2,\n        \"samples\": [\n          \"S\",\n          \"F\"\n        ],\n        \"semantic_type\": \"\",\n        \"description\": \"\"\n      }\n    },\n    {\n      \"column\": \"Relation\",\n      \"properties\": {\n        \"dtype\": \"category\",\n        \"num_unique_values\": 2,\n        \"samples\": [\n          \"Mum\",\n          \"Father\"\n        ],\n        \"semantic_type\": \"\",\n        \"description\": \"\"\n      }\n    },\n    {\n      \"column\": \"raisedhands\",\n      \"properties\": {\n        \"dtype\": \"number\",\n        \"std\": 30,\n        \"min\": 0,\n        \"max\": 100,\n        \"num_unique_values\": 82,\n        \"samples\": [\n          49,\n          15\n        ],\n        \"semantic_type\": \"\",\n        \"description\": \"\"\n      }\n    },\n    {\n      \"column\": \"VisITedResources\",\n      \"properties\": {\n        \"dtype\": \"number\",\n        \"std\": 33,\n        \"min\": 0,\n        \"max\": 99,\n        \"num_unique_values\": 89,\n        \"samples\": [\n          42,\n          82\n        ],\n        \"semantic_type\": \"\",\n        \"description\": \"\"\n      }\n    },\n    {\n      \"column\": \"AnnouncementsView\",\n      \"properties\": {\n        \"dtype\": \"number\",\n        \"std\": 26,\n        \"min\": 0,\n        \"max\": 98,\n        \"num_unique_values\": 88,\n        \"samples\": [\n          31,\n          2\n        ],\n        \"semantic_type\": \"\",\n        \"description\": \"\"\n      }\n    },\n    {\n      \"column\": \"Discussion\",\n      \"properties\": {\n        \"dtype\": \"number\",\n        \"std\": 27,\n        \"min\": 1,\n        \"max\": 99,\n        \"num_unique_values\": 90,\n        \"samples\": [\n          89,\n          88\n        ],\n        \"semantic_type\": \"\",\n        \"description\": \"\"\n      }\n    },\n    {\n      \"column\": \"ParentAnsweringSurvey\",\n      \"properties\": {\n        \"dtype\": \"category\",\n        \"num_unique_values\": 2,\n        \"samples\": [\n          \"No\",\n          \"Yes\"\n        ],\n        \"semantic_type\": \"\",\n        \"description\": \"\"\n      }\n    },\n    {\n      \"column\": \"ParentschoolSatisfaction\",\n      \"properties\": {\n        \"dtype\": \"category\",\n        \"num_unique_values\": 2,\n        \"samples\": [\n          \"Bad\",\n          \"Good\"\n        ],\n        \"semantic_type\": \"\",\n        \"description\": \"\"\n      }\n    },\n    {\n      \"column\": \"StudentAbsenceDays\",\n      \"properties\": {\n        \"dtype\": \"category\",\n        \"num_unique_values\": 2,\n        \"samples\": [\n          \"Above-7\",\n          \"Under-7\"\n        ],\n        \"semantic_type\": \"\",\n        \"description\": \"\"\n      }\n    },\n    {\n      \"column\": \"Class\",\n      \"properties\": {\n        \"dtype\": \"category\",\n        \"num_unique_values\": 3,\n        \"samples\": [\n          \"M\",\n          \"L\"\n        ],\n        \"semantic_type\": \"\",\n        \"description\": \"\"\n      }\n    }\n  ]\n}"
            }
          },
          "metadata": {},
          "execution_count": 41
        }
      ]
    },
    {
      "cell_type": "code",
      "source": [
        "# Display basic information about the dataset\n",
        "\n",
        "print(\"Dataset Shape:\", data.shape)"
      ],
      "metadata": {
        "colab": {
          "base_uri": "https://localhost:8080/"
        },
        "id": "mVXVFcJXTjOa",
        "outputId": "b682a7cb-7b98-4a47-942d-2db283e7dd66"
      },
      "execution_count": null,
      "outputs": [
        {
          "output_type": "stream",
          "name": "stdout",
          "text": [
            "Dataset Shape: (480, 17)\n"
          ]
        }
      ]
    },
    {
      "cell_type": "code",
      "source": [
        "print(\"Dataset Columns:\\n\", data.columns)\n"
      ],
      "metadata": {
        "colab": {
          "base_uri": "https://localhost:8080/"
        },
        "id": "bdlHL8NwTqHO",
        "outputId": "93696435-4ac0-46d6-aa96-ad828aed76fa"
      },
      "execution_count": null,
      "outputs": [
        {
          "output_type": "stream",
          "name": "stdout",
          "text": [
            "Dataset Columns:\n",
            " Index(['gender', 'NationalITy', 'PlaceofBirth', 'StageID', 'GradeID',\n",
            "       'SectionID', 'Topic', 'Semester', 'Relation', 'raisedhands',\n",
            "       'VisITedResources', 'AnnouncementsView', 'Discussion',\n",
            "       'ParentAnsweringSurvey', 'ParentschoolSatisfaction',\n",
            "       'StudentAbsenceDays', 'Class'],\n",
            "      dtype='object')\n"
          ]
        }
      ]
    },
    {
      "cell_type": "code",
      "source": [
        "print(\"Dataset Summary:\\n\", data.describe(include='all'))"
      ],
      "metadata": {
        "colab": {
          "base_uri": "https://localhost:8080/"
        },
        "id": "_8OFBPJXTu1m",
        "outputId": "a1837f58-c67d-4563-dc66-44c68bcce308"
      },
      "execution_count": null,
      "outputs": [
        {
          "output_type": "stream",
          "name": "stdout",
          "text": [
            "Dataset Summary:\n",
            "        gender NationalITy PlaceofBirth       StageID GradeID SectionID Topic  \\\n",
            "count     480         480          480           480     480       480   480   \n",
            "unique      2          14           14             3      10         3    12   \n",
            "top         M          KW       KuwaIT  MiddleSchool    G-02         A    IT   \n",
            "freq      305         179          180           248     147       283    95   \n",
            "mean      NaN         NaN          NaN           NaN     NaN       NaN   NaN   \n",
            "std       NaN         NaN          NaN           NaN     NaN       NaN   NaN   \n",
            "min       NaN         NaN          NaN           NaN     NaN       NaN   NaN   \n",
            "25%       NaN         NaN          NaN           NaN     NaN       NaN   NaN   \n",
            "50%       NaN         NaN          NaN           NaN     NaN       NaN   NaN   \n",
            "75%       NaN         NaN          NaN           NaN     NaN       NaN   NaN   \n",
            "max       NaN         NaN          NaN           NaN     NaN       NaN   NaN   \n",
            "\n",
            "       Semester Relation  raisedhands  VisITedResources  AnnouncementsView  \\\n",
            "count       480      480   480.000000        480.000000         480.000000   \n",
            "unique        2        2          NaN               NaN                NaN   \n",
            "top           F   Father          NaN               NaN                NaN   \n",
            "freq        245      283          NaN               NaN                NaN   \n",
            "mean        NaN      NaN    46.775000         54.797917          37.918750   \n",
            "std         NaN      NaN    30.779223         33.080007          26.611244   \n",
            "min         NaN      NaN     0.000000          0.000000           0.000000   \n",
            "25%         NaN      NaN    15.750000         20.000000          14.000000   \n",
            "50%         NaN      NaN    50.000000         65.000000          33.000000   \n",
            "75%         NaN      NaN    75.000000         84.000000          58.000000   \n",
            "max         NaN      NaN   100.000000         99.000000          98.000000   \n",
            "\n",
            "        Discussion ParentAnsweringSurvey ParentschoolSatisfaction  \\\n",
            "count   480.000000                   480                      480   \n",
            "unique         NaN                     2                        2   \n",
            "top            NaN                   Yes                     Good   \n",
            "freq           NaN                   270                      292   \n",
            "mean     43.283333                   NaN                      NaN   \n",
            "std      27.637735                   NaN                      NaN   \n",
            "min       1.000000                   NaN                      NaN   \n",
            "25%      20.000000                   NaN                      NaN   \n",
            "50%      39.000000                   NaN                      NaN   \n",
            "75%      70.000000                   NaN                      NaN   \n",
            "max      99.000000                   NaN                      NaN   \n",
            "\n",
            "       StudentAbsenceDays Class  \n",
            "count                 480   480  \n",
            "unique                  2     3  \n",
            "top               Under-7     M  \n",
            "freq                  289   211  \n",
            "mean                  NaN   NaN  \n",
            "std                   NaN   NaN  \n",
            "min                   NaN   NaN  \n",
            "25%                   NaN   NaN  \n",
            "50%                   NaN   NaN  \n",
            "75%                   NaN   NaN  \n",
            "max                   NaN   NaN  \n"
          ]
        }
      ]
    },
    {
      "cell_type": "code",
      "source": [
        "# Check for missing values\n",
        "print(\"Missing Values:\\n\", data.isnull().sum())"
      ],
      "metadata": {
        "colab": {
          "base_uri": "https://localhost:8080/"
        },
        "id": "SLbfl8QaT_Kf",
        "outputId": "6eccd3be-a68d-4f9e-c25e-7afc441f08bb"
      },
      "execution_count": null,
      "outputs": [
        {
          "output_type": "stream",
          "name": "stdout",
          "text": [
            "Missing Values:\n",
            " gender                      0\n",
            "NationalITy                 0\n",
            "PlaceofBirth                0\n",
            "StageID                     0\n",
            "GradeID                     0\n",
            "SectionID                   0\n",
            "Topic                       0\n",
            "Semester                    0\n",
            "Relation                    0\n",
            "raisedhands                 0\n",
            "VisITedResources            0\n",
            "AnnouncementsView           0\n",
            "Discussion                  0\n",
            "ParentAnsweringSurvey       0\n",
            "ParentschoolSatisfaction    0\n",
            "StudentAbsenceDays          0\n",
            "Class                       0\n",
            "dtype: int64\n"
          ]
        }
      ]
    },
    {
      "cell_type": "code",
      "source": [
        "# Set the style for seaborn\n",
        "sns.set_style('whitegrid')"
      ],
      "metadata": {
        "id": "mV8bL4KsUFjW"
      },
      "execution_count": null,
      "outputs": []
    },
    {
      "cell_type": "code",
      "source": [
        "# Visualization and Insights\n",
        "\n",
        "# 1. Gender Distribution\n",
        "\n",
        "plt.figure(figsize=(6, 4))\n",
        "sns.countplot(x='gender', data=data, palette='pastel')\n",
        "plt.title('Gender Distribution')\n",
        "plt.xlabel('Gender')\n",
        "plt.ylabel('Count')\n",
        "plt.show()\n",
        "print(\"Insight: Gender distribution indicates how balanced the dataset is in terms of male and female students.\")\n"
      ],
      "metadata": {
        "colab": {
          "base_uri": "https://localhost:8080/",
          "height": 534
        },
        "id": "cVsAOBoQUJM2",
        "outputId": "66bf7907-05a9-4b8f-af85-219486694a02"
      },
      "execution_count": null,
      "outputs": [
        {
          "output_type": "stream",
          "name": "stderr",
          "text": [
            "<ipython-input-47-f9f032fb0188>:6: FutureWarning: \n",
            "\n",
            "Passing `palette` without assigning `hue` is deprecated and will be removed in v0.14.0. Assign the `x` variable to `hue` and set `legend=False` for the same effect.\n",
            "\n",
            "  sns.countplot(x='gender', data=data, palette='pastel')\n"
          ]
        },
        {
          "output_type": "display_data",
          "data": {
            "text/plain": [
              "<Figure size 600x400 with 1 Axes>"
            ],
            "image/png": "[encoded data removed]"
          },
          "metadata": {}
        },
        {
          "output_type": "stream",
          "name": "stdout",
          "text": [
            "Insight: Gender distribution indicates how balanced the dataset is in terms of male and female students.\n"
          ]
        }
      ]
    },
    {
      "cell_type": "code",
      "source": [
        "# 2. Nationality Distribution\n",
        "\n",
        "plt.figure(figsize=(12, 6))\n",
        "data['NationalITy'].value_counts().plot(kind='bar', color='skyblue')\n",
        "plt.title('Nationality Distribution')\n",
        "plt.xlabel('Nationality')\n",
        "plt.ylabel('Count')\n",
        "plt.show()\n",
        "print(\"Insight: Visualizing nationalities shows the diversity of the dataset.\")"
      ],
      "metadata": {
        "colab": {
          "base_uri": "https://localhost:8080/",
          "height": 593
        },
        "id": "8fxHUlN5UcyX",
        "outputId": "c8a25104-68f2-4c49-e77e-823eadbc6478"
      },
      "execution_count": null,
      "outputs": [
        {
          "output_type": "display_data",
          "data": {
            "text/plain": [
              "<Figure size 1200x600 with 1 Axes>"
            ],
            "image/png": "[encoded data removed]"
          },
          "metadata": {}
        },
        {
          "output_type": "stream",
          "name": "stdout",
          "text": [
            "Insight: Visualizing nationalities shows the diversity of the dataset.\n"
          ]
        }
      ]
    },
    {
      "cell_type": "code",
      "source": [
        "# 3. Place of Birth Distribution\n",
        "\n",
        "plt.figure(figsize=(12, 6))\n",
        "data['PlaceofBirth'].value_counts().plot(kind='bar', color='coral')\n",
        "plt.title('Place of Birth Distribution')\n",
        "plt.xlabel('Place of Birth')\n",
        "plt.ylabel('Count')\n",
        "plt.show()\n",
        "print(\"Insight: This shows where the students are predominantly born, providing geographical context.\")\n"
      ],
      "metadata": {
        "colab": {
          "base_uri": "https://localhost:8080/",
          "height": 593
        },
        "id": "rI3MQUKlU3ms",
        "outputId": "7bb99b9e-ba44-4050-8c2e-4320f0e04700"
      },
      "execution_count": null,
      "outputs": [
        {
          "output_type": "display_data",
          "data": {
            "text/plain": [
              "<Figure size 1200x600 with 1 Axes>"
            ],
            "image/png": "[encoded data removed]"
          },
          "metadata": {}
        },
        {
          "output_type": "stream",
          "name": "stdout",
          "text": [
            "Insight: This shows where the students are predominantly born, providing geographical context.\n"
          ]
        }
      ]
    },
    {
      "cell_type": "code",
      "source": [
        "# 4. Educational Stage\n",
        "\n",
        "plt.figure(figsize=(8, 5))\n",
        "sns.countplot(x='StageID', data=data, palette='viridis')\n",
        "plt.title('Educational Stage Distribution')\n",
        "plt.xlabel('Educational Stage')\n",
        "plt.ylabel('Count')\n",
        "plt.show()\n",
        "print(\"Insight: Understanding which educational stage the dataset primarily represents.\")"
      ],
      "metadata": {
        "colab": {
          "base_uri": "https://localhost:8080/",
          "height": 611
        },
        "id": "2tcY1vN9Vfmv",
        "outputId": "2634e1cf-a546-4479-c6e1-22d5fda750a0"
      },
      "execution_count": null,
      "outputs": [
        {
          "output_type": "stream",
          "name": "stderr",
          "text": [
            "<ipython-input-50-e92c31ae026d>:4: FutureWarning: \n",
            "\n",
            "Passing `palette` without assigning `hue` is deprecated and will be removed in v0.14.0. Assign the `x` variable to `hue` and set `legend=False` for the same effect.\n",
            "\n",
            "  sns.countplot(x='StageID', data=data, palette='viridis')\n"
          ]
        },
        {
          "output_type": "display_data",
          "data": {
            "text/plain": [
              "<Figure size 800x500 with 1 Axes>"
            ],
            "image/png": "[encoded data removed]"
          },
          "metadata": {}
        },
        {
          "output_type": "stream",
          "name": "stdout",
          "text": [
            "Insight: Understanding which educational stage the dataset primarily represents.\n"
          ]
        }
      ]
    },
    {
      "cell_type": "code",
      "source": [
        "# 5. Grade Distribution\n",
        "\n",
        "plt.figure(figsize=(12, 6))\n",
        "data['GradeID'].value_counts().plot(kind='bar', color='purple')\n",
        "plt.title('Grade Distribution')\n",
        "plt.xlabel('Grade')\n",
        "plt.ylabel('Count')\n",
        "plt.show()\n",
        "print(\"Insight: Distribution of grades provides an idea of the focus level of education in the dataset.\")"
      ],
      "metadata": {
        "colab": {
          "base_uri": "https://localhost:8080/",
          "height": 547
        },
        "id": "f9Op0S7nV2iI",
        "outputId": "598de8dd-eb9c-4669-ffdf-5c1a7b6e223d"
      },
      "execution_count": null,
      "outputs": [
        {
          "output_type": "display_data",
          "data": {
            "text/plain": [
              "<Figure size 1200x600 with 1 Axes>"
            ],
            "image/png": "[encoded data removed]"
          },
          "metadata": {}
        },
        {
          "output_type": "stream",
          "name": "stdout",
          "text": [
            "Insight: Distribution of grades provides an idea of the focus level of education in the dataset.\n"
          ]
        }
      ]
    },
    {
      "cell_type": "code",
      "source": [
        "# 6. Raised Hands vs Class\n",
        "\n",
        "plt.figure(figsize=(8, 6))\n",
        "sns.boxplot(x='Class', y='raisedhands', data=data, palette='coolwarm')\n",
        "plt.title('Raised Hands vs Class Performance')\n",
        "plt.xlabel('Class')\n",
        "plt.ylabel('Raised Hands')\n",
        "plt.show()\n",
        "print(\"Insight: Students with higher participation (more raised hands) tend to perform better.\")"
      ],
      "metadata": {
        "colab": {
          "base_uri": "https://localhost:8080/",
          "height": 688
        },
        "id": "S-VWoexLWFol",
        "outputId": "e3988abb-344d-44c5-ebff-0ecd8781bc4d"
      },
      "execution_count": null,
      "outputs": [
        {
          "output_type": "stream",
          "name": "stderr",
          "text": [
            "<ipython-input-52-fc2758be59d5>:4: FutureWarning: \n",
            "\n",
            "Passing `palette` without assigning `hue` is deprecated and will be removed in v0.14.0. Assign the `x` variable to `hue` and set `legend=False` for the same effect.\n",
            "\n",
            "  sns.boxplot(x='Class', y='raisedhands', data=data, palette='coolwarm')\n"
          ]
        },
        {
          "output_type": "display_data",
          "data": {
            "text/plain": [
              "<Figure size 800x600 with 1 Axes>"
            ],
            "image/png": "[encoded data removed]"
          },
          "metadata": {}
        },
        {
          "output_type": "stream",
          "name": "stdout",
          "text": [
            "Insight: Students with higher participation (more raised hands) tend to perform better.\n"
          ]
        }
      ]
    },
    {
      "cell_type": "code",
      "source": [
        "# 7. Visited Resources vs Class\n",
        "\n",
        "plt.figure(figsize=(8, 6))\n",
        "sns.boxplot(x='Class', y='VisITedResources', data=data, palette='cool')\n",
        "plt.title('Visited Resources vs Class Performance')\n",
        "plt.xlabel('Class')\n",
        "plt.ylabel('Visited Resources')\n",
        "plt.show()\n",
        "print(\"Insight: Accessing more resources correlates with better academic performance.\")"
      ],
      "metadata": {
        "colab": {
          "base_uri": "https://localhost:8080/",
          "height": 688
        },
        "id": "aBEDKHmKWVe2",
        "outputId": "cebb7e46-e98d-42a5-cda3-dd2b2e06b24e"
      },
      "execution_count": null,
      "outputs": [
        {
          "output_type": "stream",
          "name": "stderr",
          "text": [
            "<ipython-input-53-240590a75316>:4: FutureWarning: \n",
            "\n",
            "Passing `palette` without assigning `hue` is deprecated and will be removed in v0.14.0. Assign the `x` variable to `hue` and set `legend=False` for the same effect.\n",
            "\n",
            "  sns.boxplot(x='Class', y='VisITedResources', data=data, palette='cool')\n"
          ]
        },
        {
          "output_type": "display_data",
          "data": {
            "text/plain": [
              "<Figure size 800x600 with 1 Axes>"
            ],
            "image/png": "[encoded data removed]"
          },
          "metadata": {}
        },
        {
          "output_type": "stream",
          "name": "stdout",
          "text": [
            "Insight: Accessing more resources correlates with better academic performance.\n"
          ]
        }
      ]
    },
    {
      "cell_type": "code",
      "source": [
        "# 8. Announcements Views vs Class\n",
        "\n",
        "plt.figure(figsize=(8, 6))\n",
        "sns.boxplot(x='Class', y='AnnouncementsView', data=data, palette='cividis')\n",
        "plt.title('Announcements Views vs Class Performance')\n",
        "plt.xlabel('Class')\n",
        "plt.ylabel('Announcements Views')\n",
        "plt.show()\n",
        "print(\"Insight: Students who view announcements more frequently often achieve better grades.\")"
      ],
      "metadata": {
        "colab": {
          "base_uri": "https://localhost:8080/",
          "height": 688
        },
        "id": "c4QEkJ_WYOWu",
        "outputId": "5e963946-a0a4-4349-edf9-3c0fd23a4aaf"
      },
      "execution_count": null,
      "outputs": [
        {
          "output_type": "stream",
          "name": "stderr",
          "text": [
            "<ipython-input-54-500cc20ce988>:4: FutureWarning: \n",
            "\n",
            "Passing `palette` without assigning `hue` is deprecated and will be removed in v0.14.0. Assign the `x` variable to `hue` and set `legend=False` for the same effect.\n",
            "\n",
            "  sns.boxplot(x='Class', y='AnnouncementsView', data=data, palette='cividis')\n"
          ]
        },
        {
          "output_type": "display_data",
          "data": {
            "text/plain": [
              "<Figure size 800x600 with 1 Axes>"
            ],
            "image/png": "[encoded data removed]"
          },
          "metadata": {}
        },
        {
          "output_type": "stream",
          "name": "stdout",
          "text": [
            "Insight: Students who view announcements more frequently often achieve better grades.\n"
          ]
        }
      ]
    },
    {
      "cell_type": "code",
      "source": [
        "# 9. Parent Satisfaction\n",
        "\n",
        "plt.figure(figsize=(6, 4))\n",
        "sns.countplot(x='ParentschoolSatisfaction', data=data, palette='Set2')\n",
        "plt.title('Parent School Satisfaction')\n",
        "plt.xlabel('Satisfaction Level')\n",
        "plt.ylabel('Count')\n",
        "plt.show()\n",
        "print(\"Insight: Shows whether parents are satisfied or dissatisfied with the school.\")"
      ],
      "metadata": {
        "colab": {
          "base_uri": "https://localhost:8080/",
          "height": 534
        },
        "id": "zUQlZFYTYxi8",
        "outputId": "7a6c3c48-f795-4393-dc72-3e36ccb8db2c"
      },
      "execution_count": null,
      "outputs": [
        {
          "output_type": "stream",
          "name": "stderr",
          "text": [
            "<ipython-input-55-1c7e3cb2bfb2>:4: FutureWarning: \n",
            "\n",
            "Passing `palette` without assigning `hue` is deprecated and will be removed in v0.14.0. Assign the `x` variable to `hue` and set `legend=False` for the same effect.\n",
            "\n",
            "  sns.countplot(x='ParentschoolSatisfaction', data=data, palette='Set2')\n"
          ]
        },
        {
          "output_type": "display_data",
          "data": {
            "text/plain": [
              "<Figure size 600x400 with 1 Axes>"
            ],
            "image/png": "[encoded data removed]"
          },
          "metadata": {}
        },
        {
          "output_type": "stream",
          "name": "stdout",
          "text": [
            "Insight: Shows whether parents are satisfied or dissatisfied with the school.\n"
          ]
        }
      ]
    },
    {
      "cell_type": "code",
      "source": [
        "# 10. Absence Days vs Class\n",
        "\n",
        "plt.figure(figsize=(8, 5))\n",
        "sns.countplot(x='StudentAbsenceDays', hue='Class', data=data, palette='muted')\n",
        "plt.title('Student Absence Days vs Class')\n",
        "plt.xlabel('Absence Days')\n",
        "plt.ylabel('Count')\n",
        "plt.legend(title='Class')\n",
        "plt.show()\n",
        "print(\"Insight: Students with fewer absence days tend to perform better academically.\")"
      ],
      "metadata": {
        "colab": {
          "base_uri": "https://localhost:8080/",
          "height": 504
        },
        "id": "1ud9lGblY3g1",
        "outputId": "50940899-8c06-4614-ad74-b9cc7c08c2ba"
      },
      "execution_count": null,
      "outputs": [
        {
          "output_type": "display_data",
          "data": {
            "text/plain": [
              "<Figure size 800x500 with 1 Axes>"
            ],
            "image/png": "[encoded data removed]"
          },
          "metadata": {}
        },
        {
          "output_type": "stream",
          "name": "stdout",
          "text": [
            "Insight: Students with fewer absence days tend to perform better academically.\n"
          ]
        }
      ]
    },
    {
      "cell_type": "code",
      "source": [
        "from sklearn.model_selection import train_test_split\n",
        "\n",
        "# Separate features and target variable\n",
        "# Exclude 'Class' as target variable\n",
        "X = data.drop('Class', axis=1)\n",
        "y = data['Class']\n",
        "\n",
        "# Split the data into training and testing sets (80-20 split)\n",
        "X_train, X_test, y_train, y_test = train_test_split(X, y, test_size=0.2, random_state=42)"
      ],
      "metadata": {
        "id": "xW2sWimlZQTr"
      },
      "execution_count": null,
      "outputs": []
    },
    {
      "cell_type": "code",
      "source": [
        "# Display the shapes of the resulting datasets\n",
        "print(\"\\nTraining set shape (X_train, y_train):\", X_train.shape, y_train.shape)\n",
        "print(\"Testing set shape (X_test, y_test):\", X_test.shape, y_test.shape)"
      ],
      "metadata": {
        "colab": {
          "base_uri": "https://localhost:8080/"
        },
        "id": "IIh7vRZ8ZXet",
        "outputId": "0fa9d8b0-d902-4247-f408-950b8f7fd5db"
      },
      "execution_count": null,
      "outputs": [
        {
          "output_type": "stream",
          "name": "stdout",
          "text": [
            "\n",
            "Training set shape (X_train, y_train): (384, 16) (384,)\n",
            "Testing set shape (X_test, y_test): (96, 16) (96,)\n"
          ]
        }
      ]
    },
    {
      "cell_type": "code",
      "source": [
        "from sklearn.preprocessing import LabelEncoder\n",
        "\n",
        "# Create a LabelEncoder object\n",
        "label_encoder = LabelEncoder()\n",
        "\n",
        "# Assuming 'X_train' is your DataFrame and you want to encode 'gender' and 'NationalITy' columns\n",
        "for col in ['gender', 'NationalITy', 'PlaceofBirth', 'StageID', 'GradeID', 'SectionID', 'Topic', 'Semester', 'Relation', 'ParentAnsweringSurvey', 'ParentschoolSatisfaction', 'StudentAbsenceDays']:\n",
        "    X_train[col] = label_encoder.fit_transform(X_train[col])\n",
        "    X_test[col] = label_encoder.transform(X_test[col]) # Use transform, NOT fit_transform for X_test\n",
        "\n"
      ],
      "metadata": {
        "id": "0AQzzKlLg4bL"
      },
      "execution_count": null,
      "outputs": []
    },
    {
      "cell_type": "code",
      "source": [
        "from sklearn.preprocessing import StandardScaler\n",
        "\n",
        "# Scale the features\n",
        "scaler = StandardScaler()\n",
        "X_train_scaled = scaler.fit_transform(X_train)\n",
        "X_test_scaled = scaler.transform(X_test)"
      ],
      "metadata": {
        "id": "wqjrzMbtjpR2"
      },
      "execution_count": null,
      "outputs": []
    },
    {
      "cell_type": "markdown",
      "source": [
        "## **1. Logistic Regression**"
      ],
      "metadata": {
        "id": "1lKe1DvNexBK"
      }
    },
    {
      "cell_type": "code",
      "source": [
        "from sklearn.linear_model import LogisticRegression\n",
        "from sklearn.metrics import accuracy_score, classification_report, confusion_matrix\n",
        "\n",
        "# Logistic Regression model\n",
        "log_reg = LogisticRegression()\n",
        "log_reg.fit(X_train_scaled, y_train)\n",
        "\n",
        "# Predictions and evaluation\n",
        "Prediction = log_reg.predict(X_test_scaled)\n",
        "accuracy = accuracy_score(y_test, Prediction)\n",
        "Report = classification_report(y_test,Prediction)\n",
        "Confusion_Matrix = confusion_matrix(y_test, Prediction)"
      ],
      "metadata": {
        "id": "mzIK4sZee4bB"
      },
      "execution_count": null,
      "outputs": []
    },
    {
      "cell_type": "code",
      "source": [
        "print(Prediction)"
      ],
      "metadata": {
        "colab": {
          "base_uri": "https://localhost:8080/"
        },
        "id": "yhuhRGV6ksM5",
        "outputId": "ea530cb0-7882-4279-f596-a721b913b402"
      },
      "execution_count": null,
      "outputs": [
        {
          "output_type": "stream",
          "name": "stdout",
          "text": [
            "['L' 'M' 'M' 'M' 'M' 'L' 'L' 'M' 'M' 'L' 'H' 'M' 'M' 'H' 'M' 'H' 'H' 'L'\n",
            " 'M' 'M' 'H' 'M' 'L' 'H' 'H' 'M' 'M' 'H' 'M' 'M' 'L' 'M' 'H' 'M' 'L' 'M'\n",
            " 'M' 'H' 'M' 'M' 'M' 'M' 'H' 'H' 'H' 'M' 'M' 'M' 'M' 'M' 'L' 'M' 'M' 'L'\n",
            " 'M' 'L' 'H' 'M' 'M' 'H' 'H' 'M' 'M' 'M' 'H' 'M' 'M' 'M' 'M' 'H' 'H' 'H'\n",
            " 'M' 'M' 'M' 'M' 'H' 'M' 'M' 'M' 'M' 'M' 'M' 'M' 'H' 'H' 'H' 'H' 'M' 'M'\n",
            " 'M' 'M' 'H' 'M' 'L' 'M']\n"
          ]
        }
      ]
    },
    {
      "cell_type": "code",
      "source": [
        "print(\"Accuracy:\", accuracy)\n",
        "print(\"\\nClassification Report:\\n\", Report)\n",
        "print(\"\\nConfusion Matrix:\\n\", Confusion_Matrix)"
      ],
      "metadata": {
        "colab": {
          "base_uri": "https://localhost:8080/"
        },
        "id": "xA4d0j0ckkVs",
        "outputId": "1f93fbb2-9805-47d7-c508-b70604e7f8f0"
      },
      "execution_count": null,
      "outputs": [
        {
          "output_type": "stream",
          "name": "stdout",
          "text": [
            "Accuracy: 0.8229166666666666\n",
            "\n",
            "Classification Report:\n",
            "               precision    recall  f1-score   support\n",
            "\n",
            "           H       0.76      0.73      0.74        22\n",
            "           L       0.81      1.00      0.90        26\n",
            "           M       0.86      0.77      0.81        48\n",
            "\n",
            "    accuracy                           0.82        96\n",
            "   macro avg       0.81      0.83      0.82        96\n",
            "weighted avg       0.82      0.82      0.82        96\n",
            "\n",
            "\n",
            "Confusion Matrix:\n",
            " [[16  0  6]\n",
            " [ 0 26  0]\n",
            " [ 5  6 37]]\n"
          ]
        }
      ]
    },
    {
      "cell_type": "markdown",
      "source": [
        "## **2. Decision Tree model**\n"
      ],
      "metadata": {
        "id": "YU_dYGN_kzry"
      }
    },
    {
      "cell_type": "code",
      "source": [
        "from sklearn.tree import DecisionTreeClassifier\n",
        "\n",
        "# Decision Tree model\n",
        "dt_model = DecisionTreeClassifier()\n",
        "dt_model.fit(X_train_scaled, y_train)\n",
        "\n",
        "# Predictions and evaluation\n",
        "Prediction = dt_model.predict(X_test_scaled)\n",
        "accuracy = accuracy_score(y_test, Prediction)\n",
        "Report = classification_report(y_test,Prediction)\n",
        "Confusion_Matrix = confusion_matrix(y_test, Prediction)"
      ],
      "metadata": {
        "id": "70hJ_U6NlE4K"
      },
      "execution_count": null,
      "outputs": []
    },
    {
      "cell_type": "code",
      "source": [
        "print(Prediction)"
      ],
      "metadata": {
        "colab": {
          "base_uri": "https://localhost:8080/"
        },
        "id": "_gS5FYTGljnZ",
        "outputId": "b9ade590-14b7-4310-f63c-3fe0676c73fe"
      },
      "execution_count": null,
      "outputs": [
        {
          "output_type": "stream",
          "name": "stdout",
          "text": [
            "['M' 'M' 'H' 'L' 'M' 'M' 'M' 'M' 'L' 'H' 'H' 'H' 'M' 'L' 'H' 'H' 'L' 'H'\n",
            " 'L' 'M' 'L' 'H' 'H' 'H' 'L' 'M' 'H' 'L' 'M' 'L' 'L' 'H' 'M' 'H' 'H' 'L'\n",
            " 'H' 'L' 'M' 'M' 'M' 'M' 'H' 'M' 'M' 'M' 'M' 'H' 'L' 'H' 'L' 'L' 'M' 'L'\n",
            " 'L' 'L' 'M' 'M' 'L' 'M' 'H' 'M' 'M' 'H' 'H' 'L' 'L' 'H' 'M' 'L' 'L' 'H'\n",
            " 'M' 'L' 'H' 'M' 'H' 'M' 'H' 'M' 'M' 'H' 'M' 'M' 'H' 'H' 'H' 'L' 'M' 'L'\n",
            " 'H' 'H' 'M' 'M' 'L' 'M']\n"
          ]
        }
      ]
    },
    {
      "cell_type": "code",
      "source": [
        "print(\"Accuracy:\", accuracy)\n",
        "print(\"\\nClassification Report:\\n\", Report)\n",
        "print(\"\\nConfusion Matrix:\\n\", Confusion_Matrix)"
      ],
      "metadata": {
        "colab": {
          "base_uri": "https://localhost:8080/"
        },
        "id": "Bh-40vVllfbD",
        "outputId": "f9721428-07dc-49a7-edd2-8be9107e7b66"
      },
      "execution_count": null,
      "outputs": [
        {
          "output_type": "stream",
          "name": "stdout",
          "text": [
            "Accuracy: 0.7708333333333334\n",
            "\n",
            "Classification Report:\n",
            "               precision    recall  f1-score   support\n",
            "\n",
            "           H       0.70      0.73      0.71        22\n",
            "           L       0.81      0.85      0.83        26\n",
            "           M       0.78      0.75      0.77        48\n",
            "\n",
            "    accuracy                           0.77        96\n",
            "   macro avg       0.76      0.77      0.77        96\n",
            "weighted avg       0.77      0.77      0.77        96\n",
            "\n",
            "\n",
            "Confusion Matrix:\n",
            " [[16  0  6]\n",
            " [ 0 22  4]\n",
            " [ 7  5 36]]\n"
          ]
        }
      ]
    },
    {
      "cell_type": "markdown",
      "source": [
        "## **3. Random Forest Classifier**"
      ],
      "metadata": {
        "id": "u46uPiv7lymJ"
      }
    },
    {
      "cell_type": "code",
      "source": [
        "from sklearn.ensemble import RandomForestClassifier\n",
        "\n",
        "# Random Forest model\n",
        "rf_model = RandomForestClassifier()\n",
        "rf_model.fit(X_train_scaled, y_train)\n",
        "\n",
        "# Predictions and evaluation\n",
        "Prediction = rf_model.predict(X_test_scaled)\n",
        "accuracy = accuracy_score(y_test, Prediction)\n",
        "Report = classification_report(y_test,Prediction)\n",
        "Confusion_Matrix = confusion_matrix(y_test, Prediction)\n"
      ],
      "metadata": {
        "id": "1XF_eTOLl-37"
      },
      "execution_count": null,
      "outputs": []
    },
    {
      "cell_type": "code",
      "source": [
        "print(\"Accuracy:\", accuracy)\n",
        "print(\"\\nClassification Report:\\n\", Report)\n",
        "print(\"\\nConfusion Matrix:\\n\", Confusion_Matrix)"
      ],
      "metadata": {
        "colab": {
          "base_uri": "https://localhost:8080/"
        },
        "id": "6-pgZjIal_Ap",
        "outputId": "906c83cc-4c98-41e3-ac16-059493419f78"
      },
      "execution_count": null,
      "outputs": [
        {
          "output_type": "stream",
          "name": "stdout",
          "text": [
            "Accuracy: 0.8645833333333334\n",
            "\n",
            "Classification Report:\n",
            "               precision    recall  f1-score   support\n",
            "\n",
            "           H       0.85      0.77      0.81        22\n",
            "           L       0.89      0.92      0.91        26\n",
            "           M       0.86      0.88      0.87        48\n",
            "\n",
            "    accuracy                           0.86        96\n",
            "   macro avg       0.87      0.86      0.86        96\n",
            "weighted avg       0.86      0.86      0.86        96\n",
            "\n",
            "\n",
            "Confusion Matrix:\n",
            " [[17  0  5]\n",
            " [ 0 24  2]\n",
            " [ 3  3 42]]\n"
          ]
        }
      ]
    },
    {
      "cell_type": "markdown",
      "source": [
        "## **4. AdaBoost Classifier**"
      ],
      "metadata": {
        "id": "-pa-IIH6nBIh"
      }
    },
    {
      "cell_type": "code",
      "source": [
        "from sklearn.ensemble import AdaBoostClassifier\n",
        "\n",
        "# AdaBoost model\n",
        "ada_model = AdaBoostClassifier()\n",
        "ada_model.fit(X_train_scaled, y_train)\n",
        "\n",
        "# Predictions and evaluation\n",
        "Prediction = ada_model.predict(X_test_scaled)\n",
        "accuracy = accuracy_score(y_test, Prediction)\n",
        "Report = classification_report(y_test,Prediction)\n",
        "Confusion_Matrix = confusion_matrix(y_test, Prediction)"
      ],
      "metadata": {
        "colab": {
          "base_uri": "https://localhost:8080/"
        },
        "id": "1vH8bqGfnFjZ",
        "outputId": "9fc525c2-fea1-4c2f-927a-a84bb376b881"
      },
      "execution_count": null,
      "outputs": [
        {
          "output_type": "stream",
          "name": "stderr",
          "text": [
            "/usr/local/lib/python3.10/dist-packages/sklearn/ensemble/_weight_boosting.py:527: FutureWarning: The SAMME.R algorithm (the default) is deprecated and will be removed in 1.6. Use the SAMME algorithm to circumvent this warning.\n",
            "  warnings.warn(\n"
          ]
        }
      ]
    },
    {
      "cell_type": "code",
      "source": [
        "print(\"Accuracy:\", accuracy)\n",
        "print(\"\\nClassification Report:\\n\", Report)\n",
        "print(\"\\nConfusion Matrix:\\n\", Confusion_Matrix)"
      ],
      "metadata": {
        "colab": {
          "base_uri": "https://localhost:8080/"
        },
        "id": "AjJTK0u-nFmL",
        "outputId": "fc31b5ff-626d-4a96-ea7d-a84bd90d8289"
      },
      "execution_count": null,
      "outputs": [
        {
          "output_type": "stream",
          "name": "stdout",
          "text": [
            "Accuracy: 0.75\n",
            "\n",
            "Classification Report:\n",
            "               precision    recall  f1-score   support\n",
            "\n",
            "           H       0.57      0.73      0.64        22\n",
            "           L       0.88      0.88      0.88        26\n",
            "           M       0.79      0.69      0.73        48\n",
            "\n",
            "    accuracy                           0.75        96\n",
            "   macro avg       0.75      0.77      0.75        96\n",
            "weighted avg       0.76      0.75      0.75        96\n",
            "\n",
            "\n",
            "Confusion Matrix:\n",
            " [[16  0  6]\n",
            " [ 0 23  3]\n",
            " [12  3 33]]\n"
          ]
        }
      ]
    },
    {
      "cell_type": "markdown",
      "source": [
        "## **5. XGBoost Classifier**"
      ],
      "metadata": {
        "id": "U2V4zw9vnwgS"
      }
    },
    {
      "cell_type": "code",
      "source": [
        "from xgboost import XGBClassifier\n",
        "from sklearn.preprocessing import LabelEncoder\n",
        "\n",
        "# Create a LabelEncoder object\n",
        "le = LabelEncoder()\n",
        "\n",
        "# Fit the encoder to your training target variable and transform it\n",
        "y_train_encoded = le.fit_transform(y_train)\n",
        "\n",
        "# XGBoost model\n",
        "xgb_model = XGBClassifier()\n",
        "xgb_model.fit(X_train, y_train_encoded) # Use the encoded target variable for training\n",
        "\n",
        "# Predictions and evaluation\n",
        "# Transform the test target variable before making predictions\n",
        "y_test_encoded = le.transform(y_test)\n",
        "Prediction = xgb_model.predict(X_test)\n",
        "\n",
        "# You may need to inverse_transform the predictions back to original labels\n",
        "Prediction_original_labels = le.inverse_transform(Prediction)\n",
        "\n",
        "accuracy = accuracy_score(y_test_encoded, Prediction) # Use encoded for accuracy\n",
        "Report = classification_report(y_test_encoded,Prediction) # Use encoded for report\n",
        "Confusion_Matrix = confusion_matrix(y_test_encoded, Prediction) # Use encoded for matrix"
      ],
      "metadata": {
        "id": "d8pfcTNun05T"
      },
      "execution_count": null,
      "outputs": []
    },
    {
      "cell_type": "code",
      "source": [
        "print(\"Accuracy:\", accuracy)\n",
        "print(\"\\nClassification Report:\\n\", Report)\n",
        "print(\"\\nConfusion Matrix:\\n\", Confusion_Matrix)"
      ],
      "metadata": {
        "colab": {
          "base_uri": "https://localhost:8080/"
        },
        "id": "SJpYD-fwn08k",
        "outputId": "a5bdc01d-4d82-4f15-9def-858309bef405"
      },
      "execution_count": null,
      "outputs": [
        {
          "output_type": "stream",
          "name": "stdout",
          "text": [
            "Accuracy: 0.8229166666666666\n",
            "\n",
            "Classification Report:\n",
            "               precision    recall  f1-score   support\n",
            "\n",
            "           0       0.81      0.77      0.79        22\n",
            "           1       0.80      0.92      0.86        26\n",
            "           2       0.84      0.79      0.82        48\n",
            "\n",
            "    accuracy                           0.82        96\n",
            "   macro avg       0.82      0.83      0.82        96\n",
            "weighted avg       0.82      0.82      0.82        96\n",
            "\n",
            "\n",
            "Confusion Matrix:\n",
            " [[17  0  5]\n",
            " [ 0 24  2]\n",
            " [ 4  6 38]]\n"
          ]
        }
      ]
    },
    {
      "cell_type": "markdown",
      "source": [
        "## **6. Support Vector Machine**"
      ],
      "metadata": {
        "id": "LmW0lJAHpLjT"
      }
    },
    {
      "cell_type": "code",
      "source": [
        "from sklearn.svm import SVC\n",
        "\n",
        "# SVM model\n",
        "svm_model = SVC()\n",
        "svm_model.fit(X_train_scaled, y_train)\n",
        "\n",
        "# Predictions and evaluation\n",
        "Prediction = svm_model.predict(X_test_scaled)\n",
        "accuracy = accuracy_score(y_test, Prediction)\n",
        "Report = classification_report(y_test,Prediction)\n",
        "Confusion_Matrix = confusion_matrix(y_test, Prediction)\n"
      ],
      "metadata": {
        "id": "kUy_52vapXTr"
      },
      "execution_count": null,
      "outputs": []
    },
    {
      "cell_type": "code",
      "source": [
        "print(\"Accuracy:\", accuracy)\n",
        "print(\"\\nClassification Report:\\n\", Report)\n",
        "print(\"\\nConfusion Matrix:\\n\", Confusion_Matrix)"
      ],
      "metadata": {
        "colab": {
          "base_uri": "https://localhost:8080/"
        },
        "id": "jekOBn7rpXcT",
        "outputId": "e2d095ea-d36f-459d-d857-4bece4599dbb"
      },
      "execution_count": null,
      "outputs": [
        {
          "output_type": "stream",
          "name": "stdout",
          "text": [
            "Accuracy: 0.7916666666666666\n",
            "\n",
            "Classification Report:\n",
            "               precision    recall  f1-score   support\n",
            "\n",
            "           H       0.78      0.64      0.70        22\n",
            "           L       0.78      0.96      0.86        26\n",
            "           M       0.80      0.77      0.79        48\n",
            "\n",
            "    accuracy                           0.79        96\n",
            "   macro avg       0.79      0.79      0.78        96\n",
            "weighted avg       0.79      0.79      0.79        96\n",
            "\n",
            "\n",
            "Confusion Matrix:\n",
            " [[14  0  8]\n",
            " [ 0 25  1]\n",
            " [ 4  7 37]]\n"
          ]
        }
      ]
    },
    {
      "cell_type": "markdown",
      "source": [
        "## **7. K-Nearest Neighbors (KNN)**"
      ],
      "metadata": {
        "id": "QkpRe1eJpuXT"
      }
    },
    {
      "cell_type": "code",
      "source": [
        "from sklearn.neighbors import KNeighborsClassifier\n",
        "\n",
        "# KNN model\n",
        "knn_model = KNeighborsClassifier()\n",
        "knn_model.fit(X_train_scaled, y_train)\n",
        "\n",
        "# Predictions and evaluation\n",
        "Prediction = knn_model.predict(X_test_scaled)\n",
        "accuracy = accuracy_score(y_test, Prediction)\n",
        "Report = classification_report(y_test,Prediction)\n",
        "Confusion_Matrix = confusion_matrix(y_test, Prediction)\n"
      ],
      "metadata": {
        "id": "KdiORKRHp0Ja"
      },
      "execution_count": null,
      "outputs": []
    },
    {
      "cell_type": "code",
      "source": [
        "print(\"Accuracy:\", accuracy)\n",
        "print(\"\\nClassification Report:\\n\", Report)\n",
        "print(\"\\nConfusion Matrix:\\n\", Confusion_Matrix)"
      ],
      "metadata": {
        "colab": {
          "base_uri": "https://localhost:8080/"
        },
        "id": "9j1p9aPAp0R8",
        "outputId": "bcce75e2-9b6e-4ce6-9e24-5fc4350a9b7d"
      },
      "execution_count": null,
      "outputs": [
        {
          "output_type": "stream",
          "name": "stdout",
          "text": [
            "Accuracy: 0.71875\n",
            "\n",
            "Classification Report:\n",
            "               precision    recall  f1-score   support\n",
            "\n",
            "           H       0.62      0.59      0.60        22\n",
            "           L       0.73      0.92      0.81        26\n",
            "           M       0.76      0.67      0.71        48\n",
            "\n",
            "    accuracy                           0.72        96\n",
            "   macro avg       0.70      0.73      0.71        96\n",
            "weighted avg       0.72      0.72      0.71        96\n",
            "\n",
            "\n",
            "Confusion Matrix:\n",
            " [[13  0  9]\n",
            " [ 1 24  1]\n",
            " [ 7  9 32]]\n"
          ]
        }
      ]
    },
    {
      "cell_type": "markdown",
      "source": [
        "## **9. Naive Bayes Classifier**"
      ],
      "metadata": {
        "id": "0jWbHwGAqSUE"
      }
    },
    {
      "cell_type": "code",
      "source": [
        "from sklearn.naive_bayes import GaussianNB\n",
        "\n",
        "# Naive Bayes model\n",
        "nb_model = GaussianNB()\n",
        "nb_model.fit(X_train_scaled, y_train)\n",
        "\n",
        "# Predictions and evaluation\n",
        "Prediction = nb_model.predict(X_test_scaled)\n",
        "accuracy = accuracy_score(y_test, Prediction)\n",
        "Report = classification_report(y_test,Prediction)\n",
        "Confusion_Matrix = confusion_matrix(y_test, Prediction)"
      ],
      "metadata": {
        "id": "uX5mgl6rqYur"
      },
      "execution_count": null,
      "outputs": []
    },
    {
      "cell_type": "code",
      "source": [
        "print(\"Accuracy:\", accuracy)\n",
        "print(\"\\nClassification Report:\\n\", Report)\n",
        "print(\"\\nConfusion Matrix:\\n\", Confusion_Matrix)"
      ],
      "metadata": {
        "colab": {
          "base_uri": "https://localhost:8080/"
        },
        "id": "06l_rD7pqY17",
        "outputId": "ad4ab3e3-e239-4ef5-9fcf-3df2a272953e"
      },
      "execution_count": null,
      "outputs": [
        {
          "output_type": "stream",
          "name": "stdout",
          "text": [
            "Accuracy: 0.8020833333333334\n",
            "\n",
            "Classification Report:\n",
            "               precision    recall  f1-score   support\n",
            "\n",
            "           H       0.73      0.86      0.79        22\n",
            "           L       0.77      0.92      0.84        26\n",
            "           M       0.87      0.71      0.78        48\n",
            "\n",
            "    accuracy                           0.80        96\n",
            "   macro avg       0.79      0.83      0.81        96\n",
            "weighted avg       0.81      0.80      0.80        96\n",
            "\n",
            "\n",
            "Confusion Matrix:\n",
            " [[19  0  3]\n",
            " [ 0 24  2]\n",
            " [ 7  7 34]]\n"
          ]
        }
      ]
    },
    {
      "cell_type": "markdown",
      "source": [
        "## **10. Bagging Classifier**"
      ],
      "metadata": {
        "id": "myTrDNHsqtny"
      }
    },
    {
      "cell_type": "code",
      "source": [
        "from sklearn.ensemble import BaggingClassifier\n",
        "\n",
        "# Bagging model (using Decision Trees as base estimators)\n",
        "bagging_model = BaggingClassifier()\n",
        "bagging_model.fit(X_train_scaled, y_train)\n",
        "\n",
        "# Predictions and evaluation\n",
        "Prediction = bagging_model.predict(X_test_scaled)\n",
        "accuracy = accuracy_score(y_test, Prediction)\n",
        "Report = classification_report(y_test,Prediction)\n",
        "Confusion_Matrix = confusion_matrix(y_test, Prediction)\n"
      ],
      "metadata": {
        "id": "CpzgS7O8q_91"
      },
      "execution_count": null,
      "outputs": []
    },
    {
      "cell_type": "code",
      "source": [
        "print(\"Accuracy:\", accuracy)\n",
        "print(\"\\nClassification Report:\\n\", Report)\n",
        "print(\"\\nConfusion Matrix:\\n\", Confusion_Matrix)"
      ],
      "metadata": {
        "colab": {
          "base_uri": "https://localhost:8080/"
        },
        "id": "b3s5lc7trAJC",
        "outputId": "4abee670-5e7c-4269-bf63-ba17cc1bdc50"
      },
      "execution_count": null,
      "outputs": [
        {
          "output_type": "stream",
          "name": "stdout",
          "text": [
            "Accuracy: 0.7604166666666666\n",
            "\n",
            "Classification Report:\n",
            "               precision    recall  f1-score   support\n",
            "\n",
            "           H       0.70      0.73      0.71        22\n",
            "           L       0.77      0.88      0.82        26\n",
            "           M       0.79      0.71      0.75        48\n",
            "\n",
            "    accuracy                           0.76        96\n",
            "   macro avg       0.75      0.77      0.76        96\n",
            "weighted avg       0.76      0.76      0.76        96\n",
            "\n",
            "\n",
            "Confusion Matrix:\n",
            " [[16  0  6]\n",
            " [ 0 23  3]\n",
            " [ 7  7 34]]\n"
          ]
        }
      ]
    },
    {
      "cell_type": "markdown",
      "source": [
        "## **Deployment**\n"
      ],
      "metadata": {
        "id": "h-WU-2hBpuyZ"
      }
    },
    {
      "cell_type": "code",
      "source": [
        "import pickle\n",
        "\n",
        "# Save the model to a file\n",
        "model_file = 'Online_Learning_Performance_RF.pkl'\n",
        "with open(model_file, 'wb') as file:\n",
        "    pickle.dump(rf_model, file)\n",
        "print(f\"\\nModel saved as {model_file}\")\n",
        "\n",
        "# Define a function to make predictions using the saved model\n",
        "def model_prediction(features):\n",
        "    # Load the saved model\n",
        "    pickled_model = pickle.load(open(model_file, 'rb'))\n",
        "\n",
        "    # Check if the input features have the correct number of features\n",
        "    num_features_expected = pickled_model.n_features_in_\n",
        "    num_features_provided = len(features[0])  # Assuming features is a list of lists\n",
        "\n",
        "    if num_features_provided != num_features_expected:\n",
        "        raise ValueError(f\"Input data has {num_features_provided} features, but the model expects {num_features_expected} features.\")\n",
        "\n",
        "    # Predict using the provided features\n",
        "    prediction = pickled_model.predict(features)\n",
        "    return f'The predicted performance class is: {prediction[0]}'\n",
        "\n",
        "# Example input features (adjust according to your dataset)\n",
        "example_features = [3.5, 80, 0, 1, 0, 1]  # Replace with appropriate sample values\n",
        "\n",
        "# Check the number of features expected by the model\n",
        "pickled_model = pickle.load(open(model_file, 'rb'))  # Temporarily load model to get expected features\n",
        "num_features_expected = pickled_model.n_features_in_\n",
        "\n",
        "# Update example features with the correct number of features\n",
        "# Make sure this data is valid for the model's input requirements\n",
        "example_features = example_features + [0] * (num_features_expected - len(example_features))  # Pad with zeros\n",
        "\n",
        "example_features_array = [example_features]  # Wrap in a list for prediction\n",
        "\n",
        "# Make a prediction using the example input\n",
        "result = model_prediction(example_features_array)\n",
        "print(\"\\nPrediction Result:\")\n",
        "print(result)"
      ],
      "metadata": {
        "colab": {
          "base_uri": "https://localhost:8080/"
        },
        "id": "QQkao99-pyZ-",
        "outputId": "6935ce49-2662-4884-bd07-c5def63d7e94"
      },
      "execution_count": null,
      "outputs": [
        {
          "output_type": "stream",
          "name": "stdout",
          "text": [
            "\n",
            "Model saved as Online_Learning_Performance_RF.pkl\n",
            "\n",
            "Prediction Result:\n",
            "The predicted performance class is: M\n"
          ]
        }
      ]
    },
    {
      "cell_type": "code",
      "source": [
        "from google.colab import files\n",
        "files.download('Online_Learning_Performance_RF.pkl')"
      ],
      "metadata": {
        "colab": {
          "base_uri": "https://localhost:8080/",
          "height": 17
        },
        "id": "YtuPixU00df7",
        "outputId": "7f78f84e-30fe-488d-e1f2-01b1ef8f7f95"
      },
      "execution_count": null,
      "outputs": [
        {
          "output_type": "display_data",
          "data": {
            "text/plain": [
              "<IPython.core.display.Javascript object>"
            ],
            "application/javascript": [
              "\n",
              "    async function download(id, filename, size) {\n",
              "      if (!google.colab.kernel.accessAllowed) {\n",
              "        return;\n",
              "      }\n",
              "      const div = document.createElement('div');\n",
              "      const label = document.createElement('label');\n",
              "      label.textContent = `Downloading \"${filename}\": `;\n",
              "      div.appendChild(label);\n",
              "      const progress = document.createElement('progress');\n",
              "      progress.max = size;\n",
              "      div.appendChild(progress);\n",
              "      document.body.appendChild(div);\n",
              "\n",
              "      const buffers = [];\n",
              "      let downloaded = 0;\n",
              "\n",
              "      const channel = await google.colab.kernel.comms.open(id);\n",
              "      // Send a message to notify the kernel that we're ready.\n",
              "      channel.send({})\n",
              "\n",
              "      for await (const message of channel.messages) {\n",
              "        // Send a message to notify the kernel that we're ready.\n",
              "        channel.send({})\n",
              "        if (message.buffers) {\n",
              "          for (const buffer of message.buffers) {\n",
              "            buffers.push(buffer);\n",
              "            downloaded += buffer.byteLength;\n",
              "            progress.value = downloaded;\n",
              "          }\n",
              "        }\n",
              "      }\n",
              "      const blob = new Blob(buffers, {type: 'application/binary'});\n",
              "      const a = document.createElement('a');\n",
              "      a.href = window.URL.createObjectURL(blob);\n",
              "      a.download = filename;\n",
              "      div.appendChild(a);\n",
              "      a.click();\n",
              "      div.remove();\n",
              "    }\n",
              "  "
            ]
          },
          "metadata": {}
        },
        {
          "output_type": "display_data",
          "data": {
            "text/plain": [
              "<IPython.core.display.Javascript object>"
            ],
            "application/javascript": [
              "download(\"download_f0d267d8-17b2-46ad-bad4-72d4c6def83c\", \"Online_Learning_Performance_RF.pkl\", 1513276)"
            ]
          },
          "metadata": {}
        }
      ]
    }
  ]
}